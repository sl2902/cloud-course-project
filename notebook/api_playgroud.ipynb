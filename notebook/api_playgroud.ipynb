{
 "cells": [
  {
   "cell_type": "code",
   "execution_count": 3,
   "id": "dd87b11a",
   "metadata": {},
   "outputs": [],
   "source": [
    "import requests"
   ]
  },
  {
   "cell_type": "code",
   "execution_count": 1,
   "id": "f6301382",
   "metadata": {},
   "outputs": [],
   "source": [
    "BASE_URL = \"https://s4zyianowj.execute-api.us-west-2.amazonaws.com/prod\""
   ]
  },
  {
   "cell_type": "code",
   "execution_count": 13,
   "id": "95e29315",
   "metadata": {},
   "outputs": [],
   "source": [
    "end_point = 'greeting'\n",
    "response = requests.get(f'{BASE_URL}/{end_point}')"
   ]
  },
  {
   "cell_type": "code",
   "execution_count": 15,
   "id": "3768b0a7",
   "metadata": {},
   "outputs": [
    {
     "name": "stdout",
     "output_type": "stream",
     "text": [
      "200\n",
      "{'Date': 'Thu, 08 May 2025 20:16:33 GMT', 'Content-Type': 'application/json', 'Content-Length': '83', 'Connection': 'keep-alive', 'x-amzn-RequestId': '8c1cd734-ef98-4c55-a336-c3770dfdcfaf', 'x-amz-apigw-id': 'KQ-dSE8gvHcEGog='}\n",
      "{'message': 'hello', 'httpMethod': 'GET', 'requestPath': '/prod/greeting'}\n"
     ]
    }
   ],
   "source": [
    "print(response.status_code)\n",
    "print(response.headers)\n",
    "print(response.json())"
   ]
  },
  {
   "cell_type": "code",
   "execution_count": null,
   "id": "61597fe4",
   "metadata": {},
   "outputs": [],
   "source": []
  }
 ],
 "metadata": {
  "kernelspec": {
   "display_name": "venv_mlops",
   "language": "python",
   "name": "python3"
  },
  "language_info": {
   "codemirror_mode": {
    "name": "ipython",
    "version": 3
   },
   "file_extension": ".py",
   "mimetype": "text/x-python",
   "name": "python",
   "nbconvert_exporter": "python",
   "pygments_lexer": "ipython3",
   "version": "3.11.8"
  }
 },
 "nbformat": 4,
 "nbformat_minor": 5
}
